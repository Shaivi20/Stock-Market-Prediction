{
 "cells": [
  {
   "cell_type": "markdown",
   "metadata": {},
   "source": [
    "# FORECASTING OVERVIEW\n",
    "Forecasting is by far the most important and frequently used application of predictive analytics because\n",
    "it has significant impact on both the top line and the bottom line of an organization. Every organization\n",
    "prepares long-range and short-range planning and forecasting demand for product and service is an\n",
    "important input for both long-range and short-range planning. Different capacity planning problems\n",
    "such as manpower planning, machine capacity, warehouse capacity, materials requirements planning\n",
    "(MRP) will depend on the forecasted demand for the product/service. Budget allocation for marketing\n",
    "promotions and advertisements are usually made based on forecasted demand for the product.<br><br>\n",
    "Following are few examples of challenging forecasting problems:<br>\n",
    "1. Demand for products and service is not the only application of forecasting, even manpower\n",
    "planning requires the use of sophisticated models. Indian information technology (IT) companies struggle to manage the right level of manpower for each skill required to manage their business. This would involve forecasting business opportunities, skills required to manage current\n",
    "and future projects, and so on.<br><br>\n",
    "2. Boeing 747-400 has more than 6 million parts and several thousand unique parts (Hill, 2011).\n",
    "Forecasting demand for spare parts is important since non-availability of mission-critical parts\n",
    "can result in aircraft on ground (AOG) which can be very expensive for airlines.<br><br>\n",
    "3. Walmart sells more than 142,000 products through their supercenters (source: Walmart website; see Reference section). Being a brick-and-mortar retail store, Walmart does not have the advantages of Amazon.com (being also a market place, Amazon does not have to predict demand\n",
    "for all the products sold through their portal). Walmart must maintain stock for each and every\n",
    "product sold and predict demand for the products as accurately as possible."
   ]
  },
  {
   "cell_type": "markdown",
   "metadata": {},
   "source": [
    "# COMPONENTS OF TIME-SERIES DATA\n",
    "1. Trend Component (Tt)\n",
    "2. Seasonal Component (St)\n",
    "3. Cyclical Component (Ct)\n",
    "4. Irregular Component (It)"
   ]
  },
  {
   "cell_type": "markdown",
   "metadata": {},
   "source": [
    " # S and P 500 dataset"
   ]
  },
  {
   "cell_type": "code",
   "execution_count": 6,
   "metadata": {},
   "outputs": [
    {
     "data": {
      "text/html": [
       "<div>\n",
       "<style scoped>\n",
       "    .dataframe tbody tr th:only-of-type {\n",
       "        vertical-align: middle;\n",
       "    }\n",
       "\n",
       "    .dataframe tbody tr th {\n",
       "        vertical-align: top;\n",
       "    }\n",
       "\n",
       "    .dataframe thead th {\n",
       "        text-align: right;\n",
       "    }\n",
       "</style>\n",
       "<table border=\"1\" class=\"dataframe\">\n",
       "  <thead>\n",
       "    <tr style=\"text-align: right;\">\n",
       "      <th></th>\n",
       "      <th>date</th>\n",
       "      <th>open</th>\n",
       "      <th>high</th>\n",
       "      <th>low</th>\n",
       "      <th>close</th>\n",
       "      <th>volume</th>\n",
       "      <th>Name</th>\n",
       "    </tr>\n",
       "  </thead>\n",
       "  <tbody>\n",
       "    <tr>\n",
       "      <th>0</th>\n",
       "      <td>2013-02-08</td>\n",
       "      <td>15.07</td>\n",
       "      <td>15.12</td>\n",
       "      <td>14.63</td>\n",
       "      <td>14.75</td>\n",
       "      <td>8407500</td>\n",
       "      <td>AAL</td>\n",
       "    </tr>\n",
       "    <tr>\n",
       "      <th>1</th>\n",
       "      <td>2013-02-11</td>\n",
       "      <td>14.89</td>\n",
       "      <td>15.01</td>\n",
       "      <td>14.26</td>\n",
       "      <td>14.46</td>\n",
       "      <td>8882000</td>\n",
       "      <td>AAL</td>\n",
       "    </tr>\n",
       "    <tr>\n",
       "      <th>2</th>\n",
       "      <td>2013-02-12</td>\n",
       "      <td>14.45</td>\n",
       "      <td>14.51</td>\n",
       "      <td>14.10</td>\n",
       "      <td>14.27</td>\n",
       "      <td>8126000</td>\n",
       "      <td>AAL</td>\n",
       "    </tr>\n",
       "    <tr>\n",
       "      <th>3</th>\n",
       "      <td>2013-02-13</td>\n",
       "      <td>14.30</td>\n",
       "      <td>14.94</td>\n",
       "      <td>14.25</td>\n",
       "      <td>14.66</td>\n",
       "      <td>10259500</td>\n",
       "      <td>AAL</td>\n",
       "    </tr>\n",
       "    <tr>\n",
       "      <th>4</th>\n",
       "      <td>2013-02-14</td>\n",
       "      <td>14.94</td>\n",
       "      <td>14.96</td>\n",
       "      <td>13.16</td>\n",
       "      <td>13.99</td>\n",
       "      <td>31879900</td>\n",
       "      <td>AAL</td>\n",
       "    </tr>\n",
       "    <tr>\n",
       "      <th>5</th>\n",
       "      <td>2013-02-15</td>\n",
       "      <td>13.93</td>\n",
       "      <td>14.61</td>\n",
       "      <td>13.93</td>\n",
       "      <td>14.50</td>\n",
       "      <td>15628000</td>\n",
       "      <td>AAL</td>\n",
       "    </tr>\n",
       "    <tr>\n",
       "      <th>6</th>\n",
       "      <td>2013-02-19</td>\n",
       "      <td>14.33</td>\n",
       "      <td>14.56</td>\n",
       "      <td>14.08</td>\n",
       "      <td>14.26</td>\n",
       "      <td>11354400</td>\n",
       "      <td>AAL</td>\n",
       "    </tr>\n",
       "    <tr>\n",
       "      <th>7</th>\n",
       "      <td>2013-02-20</td>\n",
       "      <td>14.17</td>\n",
       "      <td>14.26</td>\n",
       "      <td>13.15</td>\n",
       "      <td>13.33</td>\n",
       "      <td>14725200</td>\n",
       "      <td>AAL</td>\n",
       "    </tr>\n",
       "    <tr>\n",
       "      <th>8</th>\n",
       "      <td>2013-02-21</td>\n",
       "      <td>13.62</td>\n",
       "      <td>13.95</td>\n",
       "      <td>12.90</td>\n",
       "      <td>13.37</td>\n",
       "      <td>11922100</td>\n",
       "      <td>AAL</td>\n",
       "    </tr>\n",
       "    <tr>\n",
       "      <th>9</th>\n",
       "      <td>2013-02-22</td>\n",
       "      <td>13.57</td>\n",
       "      <td>13.60</td>\n",
       "      <td>13.21</td>\n",
       "      <td>13.57</td>\n",
       "      <td>6071400</td>\n",
       "      <td>AAL</td>\n",
       "    </tr>\n",
       "  </tbody>\n",
       "</table>\n",
       "</div>"
      ],
      "text/plain": [
       "         date   open   high    low  close    volume Name\n",
       "0  2013-02-08  15.07  15.12  14.63  14.75   8407500  AAL\n",
       "1  2013-02-11  14.89  15.01  14.26  14.46   8882000  AAL\n",
       "2  2013-02-12  14.45  14.51  14.10  14.27   8126000  AAL\n",
       "3  2013-02-13  14.30  14.94  14.25  14.66  10259500  AAL\n",
       "4  2013-02-14  14.94  14.96  13.16  13.99  31879900  AAL\n",
       "5  2013-02-15  13.93  14.61  13.93  14.50  15628000  AAL\n",
       "6  2013-02-19  14.33  14.56  14.08  14.26  11354400  AAL\n",
       "7  2013-02-20  14.17  14.26  13.15  13.33  14725200  AAL\n",
       "8  2013-02-21  13.62  13.95  12.90  13.37  11922100  AAL\n",
       "9  2013-02-22  13.57  13.60  13.21  13.57   6071400  AAL"
      ]
     },
     "execution_count": 6,
     "metadata": {},
     "output_type": "execute_result"
    }
   ],
   "source": [
    "import numpy as np\n",
    "import pandas as pd\n",
    "\n",
    "df = pd.read_csv(\"C:/Users/Downloads/SandP500/all_stocks_5yr.csv\")\n",
    "df.head(10)"
   ]
  },
  {
   "cell_type": "code",
   "execution_count": 7,
   "metadata": {},
   "outputs": [
    {
     "data": {
      "text/html": [
       "<div>\n",
       "<style scoped>\n",
       "    .dataframe tbody tr th:only-of-type {\n",
       "        vertical-align: middle;\n",
       "    }\n",
       "\n",
       "    .dataframe tbody tr th {\n",
       "        vertical-align: top;\n",
       "    }\n",
       "\n",
       "    .dataframe thead th {\n",
       "        text-align: right;\n",
       "    }\n",
       "</style>\n",
       "<table border=\"1\" class=\"dataframe\">\n",
       "  <thead>\n",
       "    <tr style=\"text-align: right;\">\n",
       "      <th></th>\n",
       "      <th>open</th>\n",
       "      <th>high</th>\n",
       "      <th>low</th>\n",
       "      <th>close</th>\n",
       "      <th>volume</th>\n",
       "    </tr>\n",
       "  </thead>\n",
       "  <tbody>\n",
       "    <tr>\n",
       "      <th>count</th>\n",
       "      <td>619029.000000</td>\n",
       "      <td>619032.000000</td>\n",
       "      <td>619032.000000</td>\n",
       "      <td>619040.000000</td>\n",
       "      <td>6.190400e+05</td>\n",
       "    </tr>\n",
       "    <tr>\n",
       "      <th>mean</th>\n",
       "      <td>83.023334</td>\n",
       "      <td>83.778311</td>\n",
       "      <td>82.256096</td>\n",
       "      <td>83.043763</td>\n",
       "      <td>4.321823e+06</td>\n",
       "    </tr>\n",
       "    <tr>\n",
       "      <th>std</th>\n",
       "      <td>97.378769</td>\n",
       "      <td>98.207519</td>\n",
       "      <td>96.507421</td>\n",
       "      <td>97.389748</td>\n",
       "      <td>8.693610e+06</td>\n",
       "    </tr>\n",
       "    <tr>\n",
       "      <th>min</th>\n",
       "      <td>1.620000</td>\n",
       "      <td>1.690000</td>\n",
       "      <td>1.500000</td>\n",
       "      <td>1.590000</td>\n",
       "      <td>0.000000e+00</td>\n",
       "    </tr>\n",
       "    <tr>\n",
       "      <th>25%</th>\n",
       "      <td>40.220000</td>\n",
       "      <td>40.620000</td>\n",
       "      <td>39.830000</td>\n",
       "      <td>40.245000</td>\n",
       "      <td>1.070320e+06</td>\n",
       "    </tr>\n",
       "    <tr>\n",
       "      <th>50%</th>\n",
       "      <td>62.590000</td>\n",
       "      <td>63.150000</td>\n",
       "      <td>62.020000</td>\n",
       "      <td>62.620000</td>\n",
       "      <td>2.082094e+06</td>\n",
       "    </tr>\n",
       "    <tr>\n",
       "      <th>75%</th>\n",
       "      <td>94.370000</td>\n",
       "      <td>95.180000</td>\n",
       "      <td>93.540000</td>\n",
       "      <td>94.410000</td>\n",
       "      <td>4.284509e+06</td>\n",
       "    </tr>\n",
       "    <tr>\n",
       "      <th>max</th>\n",
       "      <td>2044.000000</td>\n",
       "      <td>2067.990000</td>\n",
       "      <td>2035.110000</td>\n",
       "      <td>2049.000000</td>\n",
       "      <td>6.182376e+08</td>\n",
       "    </tr>\n",
       "  </tbody>\n",
       "</table>\n",
       "</div>"
      ],
      "text/plain": [
       "                open           high            low          close  \\\n",
       "count  619029.000000  619032.000000  619032.000000  619040.000000   \n",
       "mean       83.023334      83.778311      82.256096      83.043763   \n",
       "std        97.378769      98.207519      96.507421      97.389748   \n",
       "min         1.620000       1.690000       1.500000       1.590000   \n",
       "25%        40.220000      40.620000      39.830000      40.245000   \n",
       "50%        62.590000      63.150000      62.020000      62.620000   \n",
       "75%        94.370000      95.180000      93.540000      94.410000   \n",
       "max      2044.000000    2067.990000    2035.110000    2049.000000   \n",
       "\n",
       "             volume  \n",
       "count  6.190400e+05  \n",
       "mean   4.321823e+06  \n",
       "std    8.693610e+06  \n",
       "min    0.000000e+00  \n",
       "25%    1.070320e+06  \n",
       "50%    2.082094e+06  \n",
       "75%    4.284509e+06  \n",
       "max    6.182376e+08  "
      ]
     },
     "execution_count": 7,
     "metadata": {},
     "output_type": "execute_result"
    }
   ],
   "source": [
    "df.describe()"
   ]
  },
  {
   "cell_type": "code",
   "execution_count": 9,
   "metadata": {},
   "outputs": [],
   "source": [
    "import matplotlib.pyplot as plt\n",
    "%matplotlib inline"
   ]
  },
  {
   "cell_type": "code",
   "execution_count": 17,
   "metadata": {},
   "outputs": [
    {
     "data": {
      "text/plain": [
       "[<matplotlib.lines.Line2D at 0x26dc326db70>]"
      ]
     },
     "execution_count": 17,
     "metadata": {},
     "output_type": "execute_result"
    },
    {
     "data": {
      "image/png": "[encoded data removed]",
      "text/plain": [
       "<Figure size 720x288 with 1 Axes>"
      ]
     },
     "metadata": {
      "needs_background": "light"
     },
     "output_type": "display_data"
    }
   ],
   "source": [
    "plt.figure(figsize=(10,4))\n",
    "plt.xlabel(\"volume\")\n",
    "plt.ylabel(\"date\")\n",
    "plt.plot(df['volume'][:20],df['date'][:20])"
   ]
  },
  {
   "cell_type": "code",
   "execution_count": 12,
   "metadata": {},
   "outputs": [
    {
     "name": "stdout",
     "output_type": "stream",
     "text": [
      "<class 'pandas.core.frame.DataFrame'>\n",
      "RangeIndex: 619040 entries, 0 to 619039\n",
      "Data columns (total 7 columns):\n",
      "date      619040 non-null object\n",
      "open      619029 non-null float64\n",
      "high      619032 non-null float64\n",
      "low       619032 non-null float64\n",
      "close     619040 non-null float64\n",
      "volume    619040 non-null int64\n",
      "Name      619040 non-null object\n",
      "dtypes: float64(4), int64(1), object(2)\n",
      "memory usage: 33.1+ MB\n"
     ]
    }
   ],
   "source": [
    "df.info()"
   ]
  },
  {
   "cell_type": "markdown",
   "metadata": {},
   "source": [
    "# Forecasting Using Moving Average\n",
    "Moving average is one of the simplest forecasting techniques which forecasts the future value of a timeseries data using average (or weighted average) of the past N observations. <br>\n"
   ]
  },
  {
   "cell_type": "code",
   "execution_count": 18,
   "metadata": {},
   "outputs": [],
   "source": [
    "df['MovingAVG'] = df[\"volume\"].rolling(window = 12).mean().shift(1)"
   ]
  },
  {
   "cell_type": "code",
   "execution_count": 20,
   "metadata": {},
   "outputs": [
    {
     "data": {
      "text/html": [
       "<div>\n",
       "<style scoped>\n",
       "    .dataframe tbody tr th:only-of-type {\n",
       "        vertical-align: middle;\n",
       "    }\n",
       "\n",
       "    .dataframe tbody tr th {\n",
       "        vertical-align: top;\n",
       "    }\n",
       "\n",
       "    .dataframe thead th {\n",
       "        text-align: right;\n",
       "    }\n",
       "</style>\n",
       "<table border=\"1\" class=\"dataframe\">\n",
       "  <thead>\n",
       "    <tr style=\"text-align: right;\">\n",
       "      <th></th>\n",
       "      <th>volume</th>\n",
       "      <th>MovingAVG</th>\n",
       "    </tr>\n",
       "  </thead>\n",
       "  <tbody>\n",
       "    <tr>\n",
       "      <th>0</th>\n",
       "      <td>8407500</td>\n",
       "      <td>nan</td>\n",
       "    </tr>\n",
       "    <tr>\n",
       "      <th>1</th>\n",
       "      <td>8882000</td>\n",
       "      <td>nan</td>\n",
       "    </tr>\n",
       "    <tr>\n",
       "      <th>2</th>\n",
       "      <td>8126000</td>\n",
       "      <td>nan</td>\n",
       "    </tr>\n",
       "    <tr>\n",
       "      <th>3</th>\n",
       "      <td>10259500</td>\n",
       "      <td>nan</td>\n",
       "    </tr>\n",
       "    <tr>\n",
       "      <th>4</th>\n",
       "      <td>31879900</td>\n",
       "      <td>nan</td>\n",
       "    </tr>\n",
       "    <tr>\n",
       "      <th>5</th>\n",
       "      <td>15628000</td>\n",
       "      <td>nan</td>\n",
       "    </tr>\n",
       "    <tr>\n",
       "      <th>6</th>\n",
       "      <td>11354400</td>\n",
       "      <td>nan</td>\n",
       "    </tr>\n",
       "    <tr>\n",
       "      <th>7</th>\n",
       "      <td>14725200</td>\n",
       "      <td>nan</td>\n",
       "    </tr>\n",
       "    <tr>\n",
       "      <th>8</th>\n",
       "      <td>11922100</td>\n",
       "      <td>nan</td>\n",
       "    </tr>\n",
       "    <tr>\n",
       "      <th>9</th>\n",
       "      <td>6071400</td>\n",
       "      <td>nan</td>\n",
       "    </tr>\n",
       "    <tr>\n",
       "      <th>10</th>\n",
       "      <td>7186400</td>\n",
       "      <td>nan</td>\n",
       "    </tr>\n",
       "    <tr>\n",
       "      <th>11</th>\n",
       "      <td>9419000</td>\n",
       "      <td>nan</td>\n",
       "    </tr>\n",
       "    <tr>\n",
       "      <th>12</th>\n",
       "      <td>7390500</td>\n",
       "      <td>11988450.00</td>\n",
       "    </tr>\n",
       "    <tr>\n",
       "      <th>13</th>\n",
       "      <td>6143600</td>\n",
       "      <td>11903700.00</td>\n",
       "    </tr>\n",
       "    <tr>\n",
       "      <th>14</th>\n",
       "      <td>7376800</td>\n",
       "      <td>11675500.00</td>\n",
       "    </tr>\n",
       "    <tr>\n",
       "      <th>15</th>\n",
       "      <td>8174800</td>\n",
       "      <td>11613066.67</td>\n",
       "    </tr>\n",
       "    <tr>\n",
       "      <th>16</th>\n",
       "      <td>7676100</td>\n",
       "      <td>11439341.67</td>\n",
       "    </tr>\n",
       "    <tr>\n",
       "      <th>17</th>\n",
       "      <td>13243200</td>\n",
       "      <td>9422358.33</td>\n",
       "    </tr>\n",
       "    <tr>\n",
       "      <th>18</th>\n",
       "      <td>9125300</td>\n",
       "      <td>9223625.00</td>\n",
       "    </tr>\n",
       "    <tr>\n",
       "      <th>19</th>\n",
       "      <td>10593700</td>\n",
       "      <td>9037866.67</td>\n",
       "    </tr>\n",
       "    <tr>\n",
       "      <th>20</th>\n",
       "      <td>6961800</td>\n",
       "      <td>8693575.00</td>\n",
       "    </tr>\n",
       "    <tr>\n",
       "      <th>21</th>\n",
       "      <td>8999100</td>\n",
       "      <td>8280216.67</td>\n",
       "    </tr>\n",
       "    <tr>\n",
       "      <th>22</th>\n",
       "      <td>11380000</td>\n",
       "      <td>8524191.67</td>\n",
       "    </tr>\n",
       "    <tr>\n",
       "      <th>23</th>\n",
       "      <td>8383300</td>\n",
       "      <td>8873658.33</td>\n",
       "    </tr>\n",
       "    <tr>\n",
       "      <th>24</th>\n",
       "      <td>17667700</td>\n",
       "      <td>8787350.00</td>\n",
       "    </tr>\n",
       "    <tr>\n",
       "      <th>25</th>\n",
       "      <td>6514100</td>\n",
       "      <td>9643783.33</td>\n",
       "    </tr>\n",
       "    <tr>\n",
       "      <th>26</th>\n",
       "      <td>11805300</td>\n",
       "      <td>9674658.33</td>\n",
       "    </tr>\n",
       "    <tr>\n",
       "      <th>27</th>\n",
       "      <td>10819800</td>\n",
       "      <td>10043700.00</td>\n",
       "    </tr>\n",
       "    <tr>\n",
       "      <th>28</th>\n",
       "      <td>10740800</td>\n",
       "      <td>10264116.67</td>\n",
       "    </tr>\n",
       "    <tr>\n",
       "      <th>29</th>\n",
       "      <td>8545200</td>\n",
       "      <td>10519508.33</td>\n",
       "    </tr>\n",
       "    <tr>\n",
       "      <th>30</th>\n",
       "      <td>8400000</td>\n",
       "      <td>10128008.33</td>\n",
       "    </tr>\n",
       "    <tr>\n",
       "      <th>31</th>\n",
       "      <td>6898500</td>\n",
       "      <td>10067566.67</td>\n",
       "    </tr>\n",
       "    <tr>\n",
       "      <th>32</th>\n",
       "      <td>5537100</td>\n",
       "      <td>9759633.33</td>\n",
       "    </tr>\n",
       "    <tr>\n",
       "      <th>33</th>\n",
       "      <td>8324100</td>\n",
       "      <td>9640908.33</td>\n",
       "    </tr>\n",
       "    <tr>\n",
       "      <th>34</th>\n",
       "      <td>5222300</td>\n",
       "      <td>9584658.33</td>\n",
       "    </tr>\n",
       "    <tr>\n",
       "      <th>35</th>\n",
       "      <td>14595600</td>\n",
       "      <td>9071516.67</td>\n",
       "    </tr>\n",
       "  </tbody>\n",
       "</table>\n",
       "</div>"
      ],
      "text/plain": [
       "      volume   MovingAVG\n",
       "0    8407500         nan\n",
       "1    8882000         nan\n",
       "2    8126000         nan\n",
       "3   10259500         nan\n",
       "4   31879900         nan\n",
       "5   15628000         nan\n",
       "6   11354400         nan\n",
       "7   14725200         nan\n",
       "8   11922100         nan\n",
       "9    6071400         nan\n",
       "10   7186400         nan\n",
       "11   9419000         nan\n",
       "12   7390500 11988450.00\n",
       "13   6143600 11903700.00\n",
       "14   7376800 11675500.00\n",
       "15   8174800 11613066.67\n",
       "16   7676100 11439341.67\n",
       "17  13243200  9422358.33\n",
       "18   9125300  9223625.00\n",
       "19  10593700  9037866.67\n",
       "20   6961800  8693575.00\n",
       "21   8999100  8280216.67\n",
       "22  11380000  8524191.67\n",
       "23   8383300  8873658.33\n",
       "24  17667700  8787350.00\n",
       "25   6514100  9643783.33\n",
       "26  11805300  9674658.33\n",
       "27  10819800 10043700.00\n",
       "28  10740800 10264116.67\n",
       "29   8545200 10519508.33\n",
       "30   8400000 10128008.33\n",
       "31   6898500 10067566.67\n",
       "32   5537100  9759633.33\n",
       "33   8324100  9640908.33\n",
       "34   5222300  9584658.33\n",
       "35  14595600  9071516.67"
      ]
     },
     "execution_count": 20,
     "metadata": {},
     "output_type": "execute_result"
    }
   ],
   "source": [
    "pd.set_option('display.float_format', lambda x: '%.2f' % x)\n",
    "\n",
    "df[[\"volume\", \"MovingAVG\"]][:36]"
   ]
  },
  {
   "cell_type": "code",
   "execution_count": 46,
   "metadata": {},
   "outputs": [
    {
     "name": "stderr",
     "output_type": "stream",
     "text": [
      "No handles with labels found to put in legend.\n"
     ]
    },
    {
     "data": {
      "image/png": "[encoded data removed]",
      "text/plain": [
       "<Figure size 720x288 with 1 Axes>"
      ]
     },
     "metadata": {
      "needs_background": "light"
     },
     "output_type": "display_data"
    }
   ],
   "source": [
    "plt.figure(figsize=(10,4))\n",
    "plt.xlabel(\"Months\")\n",
    "plt.ylabel(\"Quantity\")\n",
    "plt.plot(df[\"volume\"][12:100]);\n",
    "plt.plot(df[\"MovingAVG\"][12:100], '.');\n",
    "plt.legend();"
   ]
  },
  {
   "cell_type": "markdown",
   "metadata": {},
   "source": [
    "# Mean Absolute Percentage Error"
   ]
  },
  {
   "cell_type": "markdown",
   "metadata": {},
   "source": [
    "Mean absolute percentage error (MAPE) is the average of absolute percentage error. Assume that the\n",
    "validation data has n observations and forecasting is carried out on these n observations. The mean\n",
    "absolute percentage error is given by<br><br>\n"
   ]
  },
  {
   "cell_type": "code",
   "execution_count": 26,
   "metadata": {},
   "outputs": [],
   "source": [
    "def get_mape(actual, predicted):\n",
    "    y_true, y_pred = np.array(actual), np.array(predicted)\n",
    "    return np.round( np.mean(np.abs((actual - predicted) / actual))* 100, 2 )"
   ]
  },
  {
   "cell_type": "code",
   "execution_count": 28,
   "metadata": {},
   "outputs": [
    {
     "data": {
      "text/plain": [
       "45.9"
      ]
     },
     "execution_count": 28,
     "metadata": {},
     "output_type": "execute_result"
    }
   ],
   "source": [
    "get_mape(df[\"volume\"][12:200].values,df[\"MovingAVG\"][12:200].values)"
   ]
  },
  {
   "cell_type": "markdown",
   "metadata": {},
   "source": [
    "# Root Mean Square Error"
   ]
  },
  {
   "cell_type": "markdown",
   "metadata": {},
   "source": [
    "Root mean square error (RMSE) is the square root of average of squared error calculated over the validation dataset, and is the standard deviation of the errors for unbiased estimator. RMSE is given by<br>\n",
    "<br>"
   ]
  },
  {
   "cell_type": "code",
   "execution_count": 29,
   "metadata": {},
   "outputs": [
    {
     "data": {
      "text/plain": [
       "4417355.13177211"
      ]
     },
     "execution_count": 29,
     "metadata": {},
     "output_type": "execute_result"
    }
   ],
   "source": [
    "from sklearn.metrics import mean_squared_error\n",
    "np.sqrt(mean_squared_error(df[\"volume\"][36:].values,df[\"MovingAVG\"][36:].values))"
   ]
  },
  {
   "cell_type": "markdown",
   "metadata": {},
   "source": [
    "# Exponential Smoothing"
   ]
  },
  {
   "cell_type": "markdown",
   "metadata": {},
   "source": [
    "One of the drawbacks of the simple moving average technique is that it gives equal weight to all the previous observations used in forecasting the future value. Exponential smoothing technique (also known\n",
    "as simple exponential smoothing; SES) assigns differential weights to past observations.<br>\n",
    "<br>"
   ]
  },
  {
   "cell_type": "markdown",
   "metadata": {},
   "source": [
    "where α is called the smoothing constant, and its value lies between 0 and 1. Ft+1 is the forecasted value\n",
    "at time t + 1 using actual value Yt\n",
    " at time t and forecasted values Ft\n",
    " of time t. But the model applies differential weights to both the inputs using smoothing constant α.\n",
    "The ewm() method in Pandas provides the features for computing the exponential moving average\n",
    "taking alpha as a parameter."
   ]
  },
  {
   "cell_type": "code",
   "execution_count": 30,
   "metadata": {},
   "outputs": [],
   "source": [
    "df['ewm'] = df[\"volume\"].ewm( alpha = 0.2 ).mean()"
   ]
  },
  {
   "cell_type": "code",
   "execution_count": 31,
   "metadata": {},
   "outputs": [
    {
     "data": {
      "text/html": [
       "<div>\n",
       "<style scoped>\n",
       "    .dataframe tbody tr th:only-of-type {\n",
       "        vertical-align: middle;\n",
       "    }\n",
       "\n",
       "    .dataframe tbody tr th {\n",
       "        vertical-align: top;\n",
       "    }\n",
       "\n",
       "    .dataframe thead th {\n",
       "        text-align: right;\n",
       "    }\n",
       "</style>\n",
       "<table border=\"1\" class=\"dataframe\">\n",
       "  <thead>\n",
       "    <tr style=\"text-align: right;\">\n",
       "      <th></th>\n",
       "      <th>date</th>\n",
       "      <th>open</th>\n",
       "      <th>high</th>\n",
       "      <th>low</th>\n",
       "      <th>close</th>\n",
       "      <th>volume</th>\n",
       "      <th>Name</th>\n",
       "      <th>MovingAVG</th>\n",
       "      <th>ewm</th>\n",
       "    </tr>\n",
       "  </thead>\n",
       "  <tbody>\n",
       "    <tr>\n",
       "      <th>0</th>\n",
       "      <td>2013-02-08</td>\n",
       "      <td>15.07</td>\n",
       "      <td>15.12</td>\n",
       "      <td>14.63</td>\n",
       "      <td>14.75</td>\n",
       "      <td>8407500</td>\n",
       "      <td>AAL</td>\n",
       "      <td>nan</td>\n",
       "      <td>8407500.00</td>\n",
       "    </tr>\n",
       "    <tr>\n",
       "      <th>1</th>\n",
       "      <td>2013-02-11</td>\n",
       "      <td>14.89</td>\n",
       "      <td>15.01</td>\n",
       "      <td>14.26</td>\n",
       "      <td>14.46</td>\n",
       "      <td>8882000</td>\n",
       "      <td>AAL</td>\n",
       "      <td>nan</td>\n",
       "      <td>8671111.11</td>\n",
       "    </tr>\n",
       "    <tr>\n",
       "      <th>2</th>\n",
       "      <td>2013-02-12</td>\n",
       "      <td>14.45</td>\n",
       "      <td>14.51</td>\n",
       "      <td>14.10</td>\n",
       "      <td>14.27</td>\n",
       "      <td>8126000</td>\n",
       "      <td>AAL</td>\n",
       "      <td>nan</td>\n",
       "      <td>8447704.92</td>\n",
       "    </tr>\n",
       "    <tr>\n",
       "      <th>3</th>\n",
       "      <td>2013-02-13</td>\n",
       "      <td>14.30</td>\n",
       "      <td>14.94</td>\n",
       "      <td>14.25</td>\n",
       "      <td>14.66</td>\n",
       "      <td>10259500</td>\n",
       "      <td>AAL</td>\n",
       "      <td>nan</td>\n",
       "      <td>9061456.64</td>\n",
       "    </tr>\n",
       "    <tr>\n",
       "      <th>4</th>\n",
       "      <td>2013-02-14</td>\n",
       "      <td>14.94</td>\n",
       "      <td>14.96</td>\n",
       "      <td>13.16</td>\n",
       "      <td>13.99</td>\n",
       "      <td>31879900</td>\n",
       "      <td>AAL</td>\n",
       "      <td>nan</td>\n",
       "      <td>15849427.65</td>\n",
       "    </tr>\n",
       "  </tbody>\n",
       "</table>\n",
       "</div>"
      ],
      "text/plain": [
       "         date  open  high   low  close    volume Name  MovingAVG         ewm\n",
       "0  2013-02-08 15.07 15.12 14.63  14.75   8407500  AAL        nan  8407500.00\n",
       "1  2013-02-11 14.89 15.01 14.26  14.46   8882000  AAL        nan  8671111.11\n",
       "2  2013-02-12 14.45 14.51 14.10  14.27   8126000  AAL        nan  8447704.92\n",
       "3  2013-02-13 14.30 14.94 14.25  14.66  10259500  AAL        nan  9061456.64\n",
       "4  2013-02-14 14.94 14.96 13.16  13.99  31879900  AAL        nan 15849427.65"
      ]
     },
     "execution_count": 31,
     "metadata": {},
     "output_type": "execute_result"
    }
   ],
   "source": [
    "df.head()"
   ]
  },
  {
   "cell_type": "code",
   "execution_count": 33,
   "metadata": {},
   "outputs": [],
   "source": [
    "pd.options.display.float_format = '{:.2f}'.format"
   ]
  },
  {
   "cell_type": "code",
   "execution_count": 34,
   "metadata": {},
   "outputs": [
    {
     "data": {
      "text/html": [
       "<div>\n",
       "<style scoped>\n",
       "    .dataframe tbody tr th:only-of-type {\n",
       "        vertical-align: middle;\n",
       "    }\n",
       "\n",
       "    .dataframe tbody tr th {\n",
       "        vertical-align: top;\n",
       "    }\n",
       "\n",
       "    .dataframe thead th {\n",
       "        text-align: right;\n",
       "    }\n",
       "</style>\n",
       "<table border=\"1\" class=\"dataframe\">\n",
       "  <thead>\n",
       "    <tr style=\"text-align: right;\">\n",
       "      <th></th>\n",
       "      <th>date</th>\n",
       "      <th>open</th>\n",
       "      <th>high</th>\n",
       "      <th>low</th>\n",
       "      <th>close</th>\n",
       "      <th>volume</th>\n",
       "      <th>Name</th>\n",
       "      <th>MovingAVG</th>\n",
       "      <th>ewm</th>\n",
       "    </tr>\n",
       "  </thead>\n",
       "  <tbody>\n",
       "    <tr>\n",
       "      <th>36</th>\n",
       "      <td>2013-04-03</td>\n",
       "      <td>15.82</td>\n",
       "      <td>15.92</td>\n",
       "      <td>15.13</td>\n",
       "      <td>15.53</td>\n",
       "      <td>14658300</td>\n",
       "      <td>AAL</td>\n",
       "      <td>9589208.33</td>\n",
       "      <td>10263434.49</td>\n",
       "    </tr>\n",
       "    <tr>\n",
       "      <th>37</th>\n",
       "      <td>2013-04-04</td>\n",
       "      <td>15.12</td>\n",
       "      <td>15.71</td>\n",
       "      <td>15.12</td>\n",
       "      <td>15.69</td>\n",
       "      <td>5520300</td>\n",
       "      <td>AAL</td>\n",
       "      <td>9338425.00</td>\n",
       "      <td>9314610.53</td>\n",
       "    </tr>\n",
       "    <tr>\n",
       "      <th>38</th>\n",
       "      <td>2013-04-05</td>\n",
       "      <td>15.17</td>\n",
       "      <td>15.79</td>\n",
       "      <td>15.03</td>\n",
       "      <td>15.72</td>\n",
       "      <td>5252300</td>\n",
       "      <td>AAL</td>\n",
       "      <td>9255608.33</td>\n",
       "      <td>8502013.41</td>\n",
       "    </tr>\n",
       "    <tr>\n",
       "      <th>39</th>\n",
       "      <td>2013-04-08</td>\n",
       "      <td>15.82</td>\n",
       "      <td>15.97</td>\n",
       "      <td>15.53</td>\n",
       "      <td>15.84</td>\n",
       "      <td>3780700</td>\n",
       "      <td>AAL</td>\n",
       "      <td>8709525.00</td>\n",
       "      <td>7557625.20</td>\n",
       "    </tr>\n",
       "    <tr>\n",
       "      <th>40</th>\n",
       "      <td>2013-04-09</td>\n",
       "      <td>16.07</td>\n",
       "      <td>16.10</td>\n",
       "      <td>15.67</td>\n",
       "      <td>15.70</td>\n",
       "      <td>4420200</td>\n",
       "      <td>AAL</td>\n",
       "      <td>8122933.33</td>\n",
       "      <td>6930073.42</td>\n",
       "    </tr>\n",
       "    <tr>\n",
       "      <th>...</th>\n",
       "      <td>...</td>\n",
       "      <td>...</td>\n",
       "      <td>...</td>\n",
       "      <td>...</td>\n",
       "      <td>...</td>\n",
       "      <td>...</td>\n",
       "      <td>...</td>\n",
       "      <td>...</td>\n",
       "      <td>...</td>\n",
       "    </tr>\n",
       "    <tr>\n",
       "      <th>619035</th>\n",
       "      <td>2018-02-01</td>\n",
       "      <td>76.84</td>\n",
       "      <td>78.27</td>\n",
       "      <td>76.69</td>\n",
       "      <td>77.82</td>\n",
       "      <td>2982259</td>\n",
       "      <td>ZTS</td>\n",
       "      <td>3108279.92</td>\n",
       "      <td>3135727.44</td>\n",
       "    </tr>\n",
       "    <tr>\n",
       "      <th>619036</th>\n",
       "      <td>2018-02-02</td>\n",
       "      <td>77.53</td>\n",
       "      <td>78.12</td>\n",
       "      <td>76.73</td>\n",
       "      <td>76.78</td>\n",
       "      <td>2595187</td>\n",
       "      <td>ZTS</td>\n",
       "      <td>3140210.33</td>\n",
       "      <td>3027619.35</td>\n",
       "    </tr>\n",
       "    <tr>\n",
       "      <th>619037</th>\n",
       "      <td>2018-02-05</td>\n",
       "      <td>76.64</td>\n",
       "      <td>76.92</td>\n",
       "      <td>73.18</td>\n",
       "      <td>73.83</td>\n",
       "      <td>2962031</td>\n",
       "      <td>ZTS</td>\n",
       "      <td>3125677.00</td>\n",
       "      <td>3014501.68</td>\n",
       "    </tr>\n",
       "    <tr>\n",
       "      <th>619038</th>\n",
       "      <td>2018-02-06</td>\n",
       "      <td>72.74</td>\n",
       "      <td>74.56</td>\n",
       "      <td>72.13</td>\n",
       "      <td>73.27</td>\n",
       "      <td>4924323</td>\n",
       "      <td>ZTS</td>\n",
       "      <td>3156763.33</td>\n",
       "      <td>3396465.95</td>\n",
       "    </tr>\n",
       "    <tr>\n",
       "      <th>619039</th>\n",
       "      <td>2018-02-07</td>\n",
       "      <td>72.70</td>\n",
       "      <td>75.00</td>\n",
       "      <td>72.69</td>\n",
       "      <td>73.86</td>\n",
       "      <td>4534912</td>\n",
       "      <td>ZTS</td>\n",
       "      <td>3164656.75</td>\n",
       "      <td>3624155.16</td>\n",
       "    </tr>\n",
       "  </tbody>\n",
       "</table>\n",
       "<p>619004 rows × 9 columns</p>\n",
       "</div>"
      ],
      "text/plain": [
       "              date  open  high   low  close    volume Name  MovingAVG  \\\n",
       "36      2013-04-03 15.82 15.92 15.13  15.53  14658300  AAL 9589208.33   \n",
       "37      2013-04-04 15.12 15.71 15.12  15.69   5520300  AAL 9338425.00   \n",
       "38      2013-04-05 15.17 15.79 15.03  15.72   5252300  AAL 9255608.33   \n",
       "39      2013-04-08 15.82 15.97 15.53  15.84   3780700  AAL 8709525.00   \n",
       "40      2013-04-09 16.07 16.10 15.67  15.70   4420200  AAL 8122933.33   \n",
       "...            ...   ...   ...   ...    ...       ...  ...        ...   \n",
       "619035  2018-02-01 76.84 78.27 76.69  77.82   2982259  ZTS 3108279.92   \n",
       "619036  2018-02-02 77.53 78.12 76.73  76.78   2595187  ZTS 3140210.33   \n",
       "619037  2018-02-05 76.64 76.92 73.18  73.83   2962031  ZTS 3125677.00   \n",
       "619038  2018-02-06 72.74 74.56 72.13  73.27   4924323  ZTS 3156763.33   \n",
       "619039  2018-02-07 72.70 75.00 72.69  73.86   4534912  ZTS 3164656.75   \n",
       "\n",
       "               ewm  \n",
       "36     10263434.49  \n",
       "37      9314610.53  \n",
       "38      8502013.41  \n",
       "39      7557625.20  \n",
       "40      6930073.42  \n",
       "...            ...  \n",
       "619035  3135727.44  \n",
       "619036  3027619.35  \n",
       "619037  3014501.68  \n",
       "619038  3396465.95  \n",
       "619039  3624155.16  \n",
       "\n",
       "[619004 rows x 9 columns]"
      ]
     },
     "execution_count": 34,
     "metadata": {},
     "output_type": "execute_result"
    }
   ],
   "source": [
    "df[36:]"
   ]
  },
  {
   "cell_type": "code",
   "execution_count": 37,
   "metadata": {},
   "outputs": [
    {
     "data": {
      "text/plain": [
       "34.27"
      ]
     },
     "execution_count": 37,
     "metadata": {},
     "output_type": "execute_result"
    }
   ],
   "source": [
    "get_mape(df[\"volume\"][36:200].values,df[\"ewm\"][36:200].values)"
   ]
  },
  {
   "cell_type": "code",
   "execution_count": 42,
   "metadata": {
    "scrolled": true
   },
   "outputs": [
    {
     "name": "stderr",
     "output_type": "stream",
     "text": [
      "No handles with labels found to put in legend.\n"
     ]
    },
    {
     "data": {
      "image/png": "[encoded data removed]",
      "text/plain": [
       "<Figure size 720x288 with 1 Axes>"
      ]
     },
     "metadata": {
      "needs_background": "light"
     },
     "output_type": "display_data"
    }
   ],
   "source": [
    "plt.figure( figsize=(10,4))\n",
    "plt.xlabel('Months')\n",
    "plt.ylabel('Quantity')\n",
    "plt.plot(df['volume'][36:100] );\n",
    "plt.plot(df['ewm'][36:100], '.' );\n",
    "plt.legend();"
   ]
  },
  {
   "cell_type": "markdown",
   "metadata": {},
   "source": [
    "# DECOMPOSING TIME SERIES\n",
    "The time-series data can be modelled as addition or product of trend, seasonality, cyclical, and irregular\n",
    "components. The additive time-series model is given by<br><br>\n",
    "<center>Yt = Tt + St + Ct + It</center><br><br>\n",
    "The additive models assume that the seasonal and cyclical components are independent of the trend\n",
    "component. Additive models are not very common, since in many cases the seasonal component may\n",
    "not be independent of the trend.<br>\n",
    "The multiplicative time-series model is given by<br><br>\n",
    "<center>Yt = Tt × St × Ct × It </center><br><br>\n",
    "Multiplicative models are more common and are a better fit for many datasets. For example, the seasonality effect on sales during festival times like Diwali does not result in constant increase in sales over the\n",
    "years. For example, the increase in sales of cars during festival season is not just 100 units every year. The\n",
    "seasonality effect has a multiplicative effect on sales based on the trend over the years like 10% additional\n",
    "units based on the trend in the current year. <br><br>So, in many cases the seasonality effect is multiplied with\n",
    "the trend and not just added as in additive model.<br>\n",
    "In many cases, while building a forecasting model, only trend and seasonality components are\n",
    "used. To estimate the cyclical component, we will need a large dataset. For example, typical period of\n",
    "business cycles is about 58 months as per Investopedia (Anon, 2018). So, to understand the effect of\n",
    "cyclic component we will need observations spanning more than 10 years. Most of the times, data for\n",
    "such a long duration is not available.<br><br>"
   ]
  },
  {
   "cell_type": "markdown",
   "metadata": {},
   "source": [
    "For decomposing a time-series data, we can leverage the following libraries:\n",
    "1. statsmodel.tsa provides various features for time-series analysis.\n",
    "2. seasonal_decompose() in statsmodel.tsa.seasonal decomposes a time series into trend, seasonal,\n",
    "and residuals. It takes frequency parameters; for example, the frequency is 12 for monthly data.<br><br>\n",
    "The plot() function will render the trend, seasonal, and residuals, as shown in the following code:"
   ]
  },
  {
   "cell_type": "code",
   "execution_count": null,
   "metadata": {},
   "outputs": [],
   "source": [
    "from statsmodels.tsa.seasonal import seasonal_decompose\n",
    "ts_decompse = seasonal_decompose(np.array(df[\"volume\"]),model='multiplicative',freq = 12)\n",
    "## Plotting the deocomposed time series components\n",
    "ts_plot = ts_decompose.plot()\n",
    "df['seasonal'] = ts_decompse.seasonal\n",
    "df[\"trend\"] = ts_decompse.trend"
   ]
  },
  {
   "cell_type": "markdown",
   "metadata": {},
   "source": [
    "# AUTO-REGRESSIVE INTEGRATED MOVING AVERAGE MODELS\n",
    "Auto-regressive (AR) and moving average (MA) models are popular models that are frequently used for\n",
    "forecasting. AR and MA models are combined to create models such as auto-regressive moving average (ARMA) and auto-regressive integrated moving average (ARIMA) models. The initial ARMA and\n",
    "ARIMA models were developed by Box and Jenkins in 1970 (Box and Jenkins, 1970). ARMA models are\n",
    "basically regression models; auto-regression simply means regression of a variable on itself measured at\n",
    "different time periods. We will discuss each component in the subsequent sections."
   ]
  },
  {
   "cell_type": "markdown",
   "metadata": {},
   "source": [
    "# Auto-Regressive (AR) Models\n",
    "Auto-regression is a regression of a variable on itself measured at different time points. Auto-regressive\n",
    "model with lag 1, AR (1), is given by<br><br>\n",
    " Yt+1\n",
    " = m + bYt + et+1<br>\n",
    "Equation can be generalized to include p lags on the right-hand side and is called a AR (p) model.\n",
    "Equation can be re-written as<br><br>\n",
    " Yt+1 − m = b (Yt − m) + et+1 <br>\n",
    "where et+1 is a sequence of uncorrelated residuals assumed to follow the normal distribution with zero\n",
    "mean and constant standard deviation. (Yt − m) can be interpreted as a deviation from mean value m;\n",
    "it is known as mean centered series.<br><br>\n",
    "One of the important tasks in using the AR model in forecasting is model identification,\n",
    "which is, identifying the value of p (the number of lags). One of the standard approaches used for model\n",
    "identification is using auto-correlation function (ACF) and partial auto-correlation function (PACF)."
   ]
  },
  {
   "cell_type": "markdown",
   "metadata": {},
   "source": [
    "# ACF\n",
    "Auto-correlation of lag k is the correlation between Yt\n",
    " and Yt–k measured at different k values (e.g., Yt\n",
    "and Yt−1 or Yt and Yt−2). A plot of auto-correlation for different values of k is called an auto-correlation\n",
    "function (ACF) or correlogram.\n",
    "statsmodels.graphics.tsaplots.plot_acf plots the autocorrelation plot.\n",
    "# PACF\n",
    "Partial auto-correlation of lag k is the correlation between Yt and Yt−k when the influence of all intermediate values <br>(Yt−1, Yt−2, …, Yt−k+1) <br>is removed (partial out) from both Yt and Yt−k\n",
    ". A plot of partial\n",
    "auto-correlation for different values of k is called partial auto-correlation function (PACF).<br><br>\n",
    "statsmodels.graphics.tsaplots.plot_pacf plots the partial auto-correlation plot.\n",
    "For applying the AR model, we will use another dataset described in the following example."
   ]
  },
  {
   "cell_type": "code",
   "execution_count": null,
   "metadata": {},
   "outputs": [],
   "source": [
    "from statsmodels.graphics.tsaplots import plot_acf, plot_pacf\n",
    "# Show autocorrelation upto lag 20\n",
    "acf_plot = plot_acf(vimana_df.demand,lags=20)"
   ]
  },
  {
   "cell_type": "markdown",
   "metadata": {},
   "source": [
    " the shaded area represents the upper and lower bounds for critical values, where the null\n",
    "hypothesis cannot be rejected (auto-correlation value is 0). So, as can be seen from Figure 8.5, null\n",
    "hypothesis is rejected only for lag = 1 (i e., auto-correlation is statistically significant for lag 1).\n",
    "We draw the PACF plot with lag up to 20."
   ]
  },
  {
   "cell_type": "code",
   "execution_count": null,
   "metadata": {},
   "outputs": [],
   "source": [
    "pacf_plot = plot_pacf( vimana_df.demand,lags=20 )"
   ]
  },
  {
   "cell_type": "markdown",
   "metadata": {},
   "source": [
    "the shaded area represents the upper and lower bounds for critical values, where the null\n",
    "hypothesis cannot be rejected. So, for lag = 1 the partial auto-correlation is significant.\n",
    "To select the appropriate p in the AR model, the following thumb rule can be used:\n",
    "1. The partial auto-correlation is significant for first p-values (first p lags) and cuts off to zero.\n",
    "2. The ACF decreases exponentially. (Signs of stationarity)\n",
    "<br>In the above case, based on ACF and PACF plots, AR with lag 1, AR(1), can be used."
   ]
  },
  {
   "cell_type": "markdown",
   "metadata": {},
   "source": [
    "# Building AR Model\n",
    "The statsmodels.tsa.arima_model.ARIMA can be used to build AR model. It takes the following two\n",
    "parameters:\n",
    "1. endog: list of values – It is the endogenous variable of the time series.\n",
    "2. order: The (p, d, q) – ARIMA model parameters. Order of AR is given by the value p, the order\n",
    "of integration is d, and the order of MA is given by q.\n",
    "<br><br>\n",
    "We will set d and q to 0 and use p = 1 for AR(1) model, and we will use only 30 months of data for building\n",
    "the model and forecast the next six months for measuring accuracy.\n",
    "Building the model and printing the accuracy"
   ]
  },
  {
   "cell_type": "code",
   "execution_count": null,
   "metadata": {},
   "outputs": [],
   "source": [
    "from statsmodels.tsa.arima_model import ARIMA\n",
    "arima = ARIMA(vimana_df.demand[0:30].astype(np.float64).as_matrix(),order = (1,0,0))\n",
    "ar_model = arima.fit()\n",
    "ar_model.summary2()"
   ]
  },
  {
   "cell_type": "markdown",
   "metadata": {},
   "source": [
    "# Forecast and Measure Accuracy\n",
    "Forecast the demand for the months 31 to 37. The index will be (month index – 1)."
   ]
  },
  {
   "cell_type": "code",
   "execution_count": null,
   "metadata": {},
   "outputs": [],
   "source": [
    "forecast_31_37 = ar_model.predict(30, 36)\n",
    "forecast_31_37"
   ]
  },
  {
   "cell_type": "code",
   "execution_count": null,
   "metadata": {},
   "outputs": [],
   "source": [
    "get_mape( vimana_df.demand[30:],\n",
    "forecast_31_37 )"
   ]
  },
  {
   "cell_type": "markdown",
   "metadata": {},
   "source": [
    "# Moving Average (MA) Processes\n",
    "MA processes are regression models in which the past residuals are used for forecasting future values of\n",
    "the time-series data.\n",
    "A moving average process of lag 1 can be written as<br>\n",
    " Yt t + +t = + 1 1 a e 1 e (8.7)<br><br>\n",
    "The model in Eq. (8.7) can be generalized to q lags. The value of q (number of lags) in a moving average\n",
    "process can be identified using the following rules (Yaffee and McGee, 2000):\n",
    "1. Auto-correlation value is significant for first q lags and cuts off to zero.\n",
    "2. The PACF decreases exponentially.<br>\n",
    "We can build an MA model with q value as 1 and print the model summary"
   ]
  },
  {
   "cell_type": "code",
   "execution_count": null,
   "metadata": {},
   "outputs": [],
   "source": [
    "arima = ARIMA(vimana_df.demand[0:30].astype(np.float64).as_matrix(),order = (0,0,1))\n",
    "ma_model = arima.fit()\n",
    "ma_model.summary2()"
   ]
  },
  {
   "cell_type": "code",
   "execution_count": null,
   "metadata": {},
   "outputs": [],
   "source": [
    "forecast_31_37 = ma_model.predict(30, 36)\n",
    "get_mape(vimana_df.demand[30:],forecast_31_37 )"
   ]
  },
  {
   "cell_type": "markdown",
   "metadata": {},
   "source": [
    "# ARMA Model\n",
    "Auto-regressive moving average (ARMA) is a combination auto-regressive and moving average process.\n",
    "ARMA(p, q) process combines AR(p) and MA(q) processes.\n",
    "The values of p and q in an ARMA process can be identified using the following thumb rules:\n",
    "1. Auto-correlation values are significant for first q values (first q lags) and cuts off to zero.\n",
    "2. Partial auto-correlation values are significant for first p values and cuts off to zero."
   ]
  },
  {
   "cell_type": "code",
   "execution_count": null,
   "metadata": {},
   "outputs": [],
   "source": [
    "arima = ARIMA( vimana_df.demand[0:30].astype(np.float64).as_matrix(), order = (1,0,1))\n",
    "arma_model = arima.fit()\n",
    "arma_model.summary2()"
   ]
  },
  {
   "cell_type": "code",
   "execution_count": null,
   "metadata": {},
   "outputs": [],
   "source": [
    "forecast_31_37 = arma_model.predict(30, 36)\n",
    "get_mape(vimana_df.demand[30:],forecast_31_37)"
   ]
  },
  {
   "cell_type": "markdown",
   "metadata": {},
   "source": [
    "# ARIMA Model\n",
    "ARMA models can be used only when the time-series data is stationary. ARIMA models are used when\n",
    "the time-series data is non-stationary. Time-series data is called stationary if the mean, variance, and\n",
    "covariance are constant over time. ARIMA model was proposed by Box and Jenkins (1970) and thus\n",
    "is also known as Box−Jenkins methodology. ARIMA has the following three components and is represented as ARIMA (p, d, q):\n",
    "1. AR component with p lags AR(p).\n",
    "2. Integration component (d).\n",
    "3. MA with q lags, MA(q).\n",
    "\n",
    "<br>\n",
    "The main objective of the integration component is to convert a non-stationary time-series process to a\n",
    "stationary process so that the AR and MA processes can be used for forecasting. When the data is nonstationary, the ACF will not cut-off to zero quickly; rather ACF may show a very slow decline.\n",
    "<br>\n",
    "<br>\n",
    "\n",
    "### What is Stationary Data?\n",
    "<br>\n",
    "Time-series data should satisfy the following conditions to be stationary:\n",
    "<br>\n",
    "\n",
    "1. The mean values of Yt at different values of t are constant.\n",
    "2. The variances of Yt at different time periods are constant (Homoscedasticity).\n",
    "3. The covariance of Yt and Yt−k for different lags depend only on k and not on time t.\n",
    "\n"
   ]
  },
  {
   "cell_type": "markdown",
   "metadata": {},
   "source": [
    "# Dicky−Fuller Test\n",
    "\n",
    "To find out if a time series is stationary, Dickey−Fuller (Dickey and Fuller, 1979) test can also be conducted. Dickey–Fuller test checks whether the b in Eq. (8.5) is equal to 1 or less than equal to 1. It is a\n",
    "hypothesis test in which the null hypothesis and alternative hypothesis are given by<br>\n",
    "<br>\n",
    "H0 : b = 1 (the time series is non-stationary)<br>\n",
    "HA: b < 1 (the time series is stationary)<br><br>\n",
    "statsmodels.tsa.stattools.adfuller is a Dicky−Fuller test and returns test statistics and p-value for the test\n",
    "of the null hypothesis. If the p-value is less than 0.05, the time series is stationary"
   ]
  },
  {
   "cell_type": "code",
   "execution_count": null,
   "metadata": {},
   "outputs": [],
   "source": [
    "from statsmodels.tsa.stattools import adfuller\n",
    "def adfuller_test(ts):\n",
    "    adfuller_result = adfuller(ts, autolag=None)\n",
    "    adfuller_out = pd.Series(adfuller_result[0:4],\n",
    "    index=[‘Test Statistic’,\n",
    "    ‘p-value’,\n",
    "    ‘Lags Used’,\n",
    "    ‘Number of Observations Used’])\n",
    "    print(adfuller_out)\n",
    "    adfuller_text(stone_df.demand)"
   ]
  },
  {
   "cell_type": "markdown",
   "metadata": {},
   "source": [
    "The p-value (>0.05) indicates that we cannot reject the null hypothesis and hence, the series is not\n",
    "stationary.<br><br>\n",
    "Differencing the original time series is an usual approach for converting the non-stationary process\n",
    "into a stationary process (called difference stationarity). For example, the first difference (d = 1) is the\n",
    "difference between consecutive values of the time series (Yt\n",
    ").\n",
    "<br>That is, the first difference is given by<br><br>\n",
    "DY = Yt - Yt -1\n",
    "\n",
    "<br>\n",
    "D is delta"
   ]
  },
  {
   "cell_type": "markdown",
   "metadata": {},
   "source": [
    "# Differencing\n",
    "First difference between consecutive Yt values can be computed by subtracting the previous day’s demand\n",
    "from that day’s demand. We can use shift() function in Pandas to shift the values before subtracting."
   ]
  },
  {
   "cell_type": "code",
   "execution_count": null,
   "metadata": {},
   "outputs": [],
   "source": [
    "store_df['demand_diff'] = store_df.demand - store_df.demand.shift(1)"
   ]
  },
  {
   "cell_type": "markdown",
   "metadata": {},
   "source": [
    "The differencing for the first day is nan as we do not have previous days’ demand. We can drop this value\n",
    "from the observation before verifying stationarity."
   ]
  },
  {
   "cell_type": "code",
   "execution_count": null,
   "metadata": {},
   "outputs": [],
   "source": [
    "store_diff_df = store_df.dropna()\n",
    "plt.figure(figsize=(10,4))\n",
    "plt.xlabel(“Date”)\n",
    "plt.ylabel(“First Order Differences”)\n",
    "plt.plot( store_diff_df.demand_diff);"
   ]
  },
  {
   "cell_type": "markdown",
   "metadata": {},
   "source": [
    "Figure 8.9 indicates the trend of first-order of differences for demand over dates. Again, it is not very\n",
    "apparent from the trend if the series is stationary or not. We will need to plot the ACF plot to verify\n",
    "(Figure 8.10)"
   ]
  },
  {
   "cell_type": "code",
   "execution_count": null,
   "metadata": {},
   "outputs": [],
   "source": [
    "pacf_plot = plot_acf(store_df.demand_diff.dropna(),\n",
    "lags=10)"
   ]
  },
  {
   "cell_type": "markdown",
   "metadata": {},
   "source": [
    "The ACF plot in Figure 8.10 shows no sign of slow reduction in autocorrelation over lags. It immediately\n",
    "cuts off to zero. We can build the model with first 100 observations as training set and subsequent observations as test set."
   ]
  },
  {
   "cell_type": "code",
   "execution_count": null,
   "metadata": {},
   "outputs": [],
   "source": [
    "store_train = store_df[0:100]\n",
    "store_test = store_df[100:]"
   ]
  },
  {
   "cell_type": "code",
   "execution_count": null,
   "metadata": {},
   "outputs": [],
   "source": [
    "arima = ARIMA(store_train.demand.astype(np.float64).as_matrix(),\n",
    "order = (1,1,1))\n",
    "arima_model = arima.fit()\n",
    "arima_model.summary2()"
   ]
  },
  {
   "cell_type": "markdown",
   "metadata": {},
   "source": [
    "ARIMA model is a regression model and thus has to satisfy all the assumptions of regression. The residuals\n",
    "should be white noise and not correlated. This can be observed by using ACF and PACF plots of the\n",
    "residuals. The model residuals are given by arima_model.resid variable."
   ]
  },
  {
   "cell_type": "code",
   "execution_count": null,
   "metadata": {},
   "outputs": [],
   "source": [
    "acf_plot = plot_acf(arima_model.resid,lags = 20)"
   ]
  },
  {
   "cell_type": "code",
   "execution_count": null,
   "metadata": {},
   "outputs": [],
   "source": [
    "pacf_plot = plot_pacf(arima_model.resid,lags = 20)"
   ]
  },
  {
   "cell_type": "markdown",
   "metadata": {},
   "source": [
    "# Forecast and Measure Accuracy\n",
    "\n",
    "The forecast() method takes the number of future periods (steps) for predicting values and returns the\n",
    "predicted values along with standard error and confidence interval of the predictions."
   ]
  },
  {
   "cell_type": "code",
   "execution_count": null,
   "metadata": {},
   "outputs": [],
   "source": [
    "store_predict, stderr, ci = arima_model.forecast(steps = 15)\n",
    "store_predict"
   ]
  },
  {
   "cell_type": "code",
   "execution_count": null,
   "metadata": {},
   "outputs": [],
   "source": [
    "get_mape(store_df.demand[100:],store_predict)"
   ]
  },
  {
   "cell_type": "markdown",
   "metadata": {},
   "source": [
    "# CONCLUSION\n",
    "1. Forecasting is carried out on a time-series data in which the dependent variable Yt is observed at different time periods t.\n",
    "2. Several techniques such as moving average, exponential smoothing, and auto-regressive models are used for forecasting future value of Yt.\n",
    "3. The forecasting models are validated using accuracy measures such as RMSE and MAPE.\n",
    "4. Auto-regressive (AR) models are regression-based models in which dependent variable is Yt and the independent variables are Yt−1, Yt−2, etc.\n",
    "5. AR models can be used only when the data is stationary.\n",
    "6. Moving average (MA) models are regression models in which the independent variables are past error values.\n",
    "7. Auto-regressive integrated moving average (ARIMA) has three components:\n",
    "    a. Auto-regressive component with p lags − AR(p)\n",
    "    b. Moving average component with q lags − MA(q)\n",
    "    c. Integration which is differencing the original data to make it stationary (denoted by d).\n",
    "8. One of the necessary conditions of acceptance of ARIMA model is that the residuals should follow white noise.\n",
    "9. In ARIMA, the model identification, that is, identifying the value of p in AR and q in MA, is achieved through auto-correlation function (ACF) and partial auto-correlation function (PACF).\n",
    "10. The stationarity of time-series data can be checked using the Dickey−Fuller test."
   ]
  },
  {
   "cell_type": "code",
   "execution_count": null,
   "metadata": {},
   "outputs": [],
   "source": []
  }
 ],
 "metadata": {
  "kernelspec": {
   "display_name": "Python 3",
   "language": "python",
   "name": "python3"
  },
  "language_info": {
   "codemirror_mode": {
    "name": "ipython",
    "version": 3
   },
   "file_extension": ".py",
   "mimetype": "text/x-python",
   "name": "python",
   "nbconvert_exporter": "python",
   "pygments_lexer": "ipython3",
   "version": "3.7.6"
  }
 },
 "nbformat": 4,
 "nbformat_minor": 2
}
